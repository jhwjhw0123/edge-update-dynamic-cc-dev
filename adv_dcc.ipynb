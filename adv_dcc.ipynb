{
 "cells": [
  {
   "cell_type": "code",
   "execution_count": 1,
   "id": "159e44ce",
   "metadata": {},
   "outputs": [],
   "source": [
    "import csv\n",
    "import random\n",
    "from utils import *\n",
    "from collections import defaultdict\n",
    "import time\n",
    "import matplotlib.pyplot as plt\n",
    "#import seaborn as sns\n",
    "import numpy as np"
   ]
  },
  {
   "cell_type": "markdown",
   "id": "promising-parts",
   "metadata": {},
   "source": [
    "## The functions that implements our algorithm"
   ]
  },
  {
   "cell_type": "code",
   "execution_count": 67,
   "id": "modern-brown",
   "metadata": {},
   "outputs": [],
   "source": [
    "def test_sparse_vertex(current_graph, eps=0.2):\n",
    "    # sample log n neighbors for each vertex\n",
    "    current_num_vertex = len(current_graph)\n",
    "    num_sample = max((int)(5*np.log(current_num_vertex)), 20)\n",
    "    sample_dict = {}\n",
    "    for this_vertex in current_graph:\n",
    "        sample_vertex_set = current_graph[this_vertex].getRandom(i=num_sample)\n",
    "        sample_dict[this_vertex] = sample_vertex_set\n",
    "    sparse_vertex_list = []\n",
    "    # test sparsity for each vertex\n",
    "    for this_vertex in current_graph:\n",
    "        num_neighbor_diff = 0\n",
    "        neighbors_this = sample_dict[this_vertex]\n",
    "        for comp_vertex in sample_dict[this_vertex]:\n",
    "            neighbors_comp = sample_dict[comp_vertex]\n",
    "            dif1 = np.setdiff1d(neighbors_this, neighbors_comp)\n",
    "            dif2 = np.setdiff1d(neighbors_comp, neighbors_this)\n",
    "            total_diff = len(np.concatenate((dif1, dif2)))\n",
    "            max_degree_between_two = max(current_graph[this_vertex].degree, \n",
    "                                         current_graph[comp_vertex].degree)\n",
    "            if (total_diff>=eps*max_degree_between_two):\n",
    "                num_neighbor_diff = num_neighbor_diff + 1\n",
    "        if num_neighbor_diff >=eps*len(neighbors_this):\n",
    "            sparse_vertex_list.append(this_vertex)\n",
    "    \n",
    "    # return the list of sparse vertices\n",
    "    return sparse_vertex_list"
   ]
  },
  {
   "cell_type": "code",
   "execution_count": 112,
   "id": "animal-rates",
   "metadata": {},
   "outputs": [],
   "source": [
    "def sparse_dense_decop(current_graph, eps=0.2):\n",
    "    current_num_vertex = len(current_graph)\n",
    "    # check sparse vertices\n",
    "    current_sparse_vertice = test_sparse_vertex(current_graph, eps=eps)\n",
    "    # sample from the dense vertices\n",
    "    dense_subgraph = {vertex: current_graph[vertex] \n",
    "                      for vertex in current_graph if vertex not in current_sparse_vertice}\n",
    "    anchor_vertex_dict = {}\n",
    "    for this_vertex in dense_subgraph:\n",
    "        # rejection sampling\n",
    "        dense_sample_prob = max((5*np.log(current_num_vertex))/dense_subgraph[this_vertex].degree, 0.01)\n",
    "        if dense_sample_prob>=np.random.uniform(low=0.0, high=1.0):\n",
    "            anchor_vertex_dict[this_vertex] = dense_subgraph[this_vertex]\n",
    "    # recursively form almost-cliques\n",
    "    num_sample = max((int)(5*np.log(current_num_vertex)), 20)\n",
    "    AC_dict = {}\n",
    "    while True:\n",
    "        if anchor_vertex_dict:\n",
    "            this_anchor_vertex = next(iter(anchor_vertex_dict))\n",
    "            print('======================')\n",
    "            print(this_anchor_vertex)\n",
    "            this_anchor_neighbors = anchor_vertex_dict[this_anchor_vertex]\n",
    "            anchor_neighbor_samples = anchor_vertex_dict[this_anchor_vertex].getRandom(i=num_sample)\n",
    "            this_anchor_sparse_neighbor_list = []\n",
    "            for candidate_vertex in this_anchor_neighbors:\n",
    "                cand_neighbor_samples = dense_subgraph[candidate_vertex].getRandom(i=num_sample)\n",
    "                # test whether their symmetric difference is large enough\n",
    "                dif1 = np.setdiff1d(anchor_neighbor_samples, cand_neighbor_samples)\n",
    "                dif2 = np.setdiff1d(cand_neighbor_samples, anchor_neighbor_samples)\n",
    "                total_diff = len(np.concatenate((dif1, dif2)))\n",
    "                max_degree_between_two = max(dense_subgraph[this_anchor_vertex].degree, \n",
    "                                             dense_subgraph[candidate_vertex].degree)\n",
    "                if (total_diff<=2*eps*max_degree_between_two):\n",
    "                    if this_anchor_vertex not in AC_dict.keys():\n",
    "                        AC_dict[this_anchor_vertex] = [candidate_vertex]\n",
    "                    else:\n",
    "                        AC_dict[this_anchor_vertex].append(candidate_vertex)\n",
    "                    if candidate_vertex in anchor_vertex_dict.keys():\n",
    "                        del anchor_vertex_dict[candidate_vertex]\n",
    "            # remove the anchor vertex from the dictionary to guarantee convergence\n",
    "            try:\n",
    "                del anchor_vertex_dict[this_anchor_vertex]\n",
    "            except:\n",
    "                print(anchor_vertex_dict)\n",
    "                print(this_anchor_vertex)\n",
    "        else:\n",
    "            return current_sparse_vertice, AC_dict"
   ]
  },
  {
   "cell_type": "markdown",
   "id": "furnished-budapest",
   "metadata": {},
   "source": [
    "## Read the edges and maintain clustering"
   ]
  },
  {
   "cell_type": "code",
   "execution_count": 113,
   "id": "97b030cf",
   "metadata": {
    "scrolled": false
   },
   "outputs": [],
   "source": [
    "adjacency_list, edge_list = create_graph_from_csv(\"../data/email-Eu-core.csv\")"
   ]
  },
  {
   "cell_type": "code",
   "execution_count": 114,
   "id": "2252f748",
   "metadata": {},
   "outputs": [
    {
     "data": {
      "text/plain": [
       "'\\nTODO\\n\\nSee if functions are doable\\n\\n'"
      ]
     },
     "execution_count": 114,
     "metadata": {},
     "output_type": "execute_result"
    }
   ],
   "source": [
    "'''\n",
    "TODO\n",
    "\n",
    "See if functions are doable\n",
    "\n",
    "'''"
   ]
  },
  {
   "cell_type": "code",
   "execution_count": 115,
   "id": "18b1a0e8",
   "metadata": {},
   "outputs": [
    {
     "name": "stdout",
     "output_type": "stream",
     "text": [
      "======================\n",
      "329\n"
     ]
    },
    {
     "ename": "KeyError",
     "evalue": "90",
     "output_type": "error",
     "traceback": [
      "\u001b[0;31m---------------------------------------------------------------------------\u001b[0m",
      "\u001b[0;31mKeyError\u001b[0m                                  Traceback (most recent call last)",
      "\u001b[0;32m<ipython-input-115-0beb8b7ab1b5>\u001b[0m in \u001b[0;36m<module>\u001b[0;34m\u001b[0m\n\u001b[1;32m     50\u001b[0m         \u001b[0;32mif\u001b[0m \u001b[0;34m(\u001b[0m\u001b[0mtrack_update_num\u001b[0m\u001b[0;34m[\u001b[0m\u001b[0mu\u001b[0m\u001b[0;34m]\u001b[0m\u001b[0;34m>\u001b[0m\u001b[0mmax\u001b[0m\u001b[0;34m(\u001b[0m\u001b[0;36m100\u001b[0m\u001b[0;34m,\u001b[0m \u001b[0meps_param\u001b[0m\u001b[0;34m*\u001b[0m\u001b[0mtrack_update_benckmark\u001b[0m\u001b[0;34m[\u001b[0m\u001b[0mu\u001b[0m\u001b[0;34m]\u001b[0m\u001b[0;34m)\u001b[0m\u001b[0;34m)\u001b[0m\u001b[0;34m:\u001b[0m\u001b[0;34m\u001b[0m\u001b[0;34m\u001b[0m\u001b[0m\n\u001b[1;32m     51\u001b[0m             \u001b[0;31m# tests\u001b[0m\u001b[0;34m\u001b[0m\u001b[0;34m\u001b[0m\u001b[0;34m\u001b[0m\u001b[0m\n\u001b[0;32m---> 52\u001b[0;31m             \u001b[0mcurrent_sparse_vertex_list\u001b[0m\u001b[0;34m,\u001b[0m \u001b[0malmost_cliques\u001b[0m \u001b[0;34m=\u001b[0m \u001b[0msparse_dense_decop\u001b[0m\u001b[0;34m(\u001b[0m\u001b[0mcurrent_graph\u001b[0m\u001b[0;34m)\u001b[0m\u001b[0;34m\u001b[0m\u001b[0;34m\u001b[0m\u001b[0m\n\u001b[0m\u001b[1;32m     53\u001b[0m             \u001b[0;31m# clear the number of updates\u001b[0m\u001b[0;34m\u001b[0m\u001b[0;34m\u001b[0m\u001b[0;34m\u001b[0m\u001b[0m\n\u001b[1;32m     54\u001b[0m             \u001b[0mtrack_update_num\u001b[0m\u001b[0;34m[\u001b[0m\u001b[0mu\u001b[0m\u001b[0;34m]\u001b[0m \u001b[0;34m=\u001b[0m \u001b[0;36m0\u001b[0m\u001b[0;34m\u001b[0m\u001b[0;34m\u001b[0m\u001b[0m\n",
      "\u001b[0;32m<ipython-input-112-113970ff14bc>\u001b[0m in \u001b[0;36msparse_dense_decop\u001b[0;34m(current_graph, eps)\u001b[0m\n\u001b[1;32m     24\u001b[0m             \u001b[0mthis_anchor_sparse_neighbor_list\u001b[0m \u001b[0;34m=\u001b[0m \u001b[0;34m[\u001b[0m\u001b[0;34m]\u001b[0m\u001b[0;34m\u001b[0m\u001b[0;34m\u001b[0m\u001b[0m\n\u001b[1;32m     25\u001b[0m             \u001b[0;32mfor\u001b[0m \u001b[0mcandidate_vertex\u001b[0m \u001b[0;32min\u001b[0m \u001b[0mthis_anchor_neighbors\u001b[0m\u001b[0;34m:\u001b[0m\u001b[0;34m\u001b[0m\u001b[0;34m\u001b[0m\u001b[0m\n\u001b[0;32m---> 26\u001b[0;31m                 \u001b[0mcand_neighbor_samples\u001b[0m \u001b[0;34m=\u001b[0m \u001b[0mdense_subgraph\u001b[0m\u001b[0;34m[\u001b[0m\u001b[0mcandidate_vertex\u001b[0m\u001b[0;34m]\u001b[0m\u001b[0;34m.\u001b[0m\u001b[0mgetRandom\u001b[0m\u001b[0;34m(\u001b[0m\u001b[0mi\u001b[0m\u001b[0;34m=\u001b[0m\u001b[0mnum_sample\u001b[0m\u001b[0;34m)\u001b[0m\u001b[0;34m\u001b[0m\u001b[0;34m\u001b[0m\u001b[0m\n\u001b[0m\u001b[1;32m     27\u001b[0m                 \u001b[0;31m# test whether their symmetric difference is large enough\u001b[0m\u001b[0;34m\u001b[0m\u001b[0;34m\u001b[0m\u001b[0;34m\u001b[0m\u001b[0m\n\u001b[1;32m     28\u001b[0m                 \u001b[0mdif1\u001b[0m \u001b[0;34m=\u001b[0m \u001b[0mnp\u001b[0m\u001b[0;34m.\u001b[0m\u001b[0msetdiff1d\u001b[0m\u001b[0;34m(\u001b[0m\u001b[0manchor_neighbor_samples\u001b[0m\u001b[0;34m,\u001b[0m \u001b[0mcand_neighbor_samples\u001b[0m\u001b[0;34m)\u001b[0m\u001b[0;34m\u001b[0m\u001b[0;34m\u001b[0m\u001b[0m\n",
      "\u001b[0;31mKeyError\u001b[0m: 90"
     ]
    }
   ],
   "source": [
    "no_edges = len(edge_list)  # No. of edges\n",
    "\n",
    "prob_del = 0.2      # Probability to delete edge\n",
    "eps_param = 0.1\n",
    "\n",
    "current_graph = {}\n",
    "current_edge_list = []\n",
    "\n",
    "available_edge_list = np.random.permutation(edge_list).tolist()\n",
    "\n",
    "stream_length = 2*no_edges\n",
    "\n",
    "track_update_num = {}\n",
    "track_update_benckmark = {}\n",
    "\n",
    "for i in range(stream_length):\n",
    "    # Insertion\n",
    "    if available_edge_list: #\n",
    "        current_edge_list.append(available_edge_list[i])\n",
    "        u = available_edge_list[i][0]\n",
    "        v = available_edge_list[i][1]\n",
    "        if u not in current_graph.keys():\n",
    "            current_graph[u] = OptList()\n",
    "        current_graph[u].insert(v)\n",
    "        if v not in current_graph.keys():\n",
    "            current_graph[v] = OptList()\n",
    "        current_graph[v].insert(u)\n",
    "        available_edge_list.pop(0)\n",
    "        \n",
    "        # keep track of the benchmark for the updates\n",
    "        if u not in track_update_benckmark:\n",
    "            track_update_benckmark[u] = current_graph[u].degree\n",
    "        if v not in track_update_benckmark:\n",
    "            track_update_benckmark[v] = current_graph[v].degree\n",
    "        # update the tracking of the updates on u and v\n",
    "        if u not in track_update_num:\n",
    "            track_update_num[u] = 1\n",
    "        else:\n",
    "            track_update_num[u] = track_update_num[u] + 1\n",
    "            \n",
    "        if v not in track_update_num:\n",
    "            track_update_num[v] = 1\n",
    "        else:\n",
    "            track_update_num[v] = track_update_num[v] + 1\n",
    "        \n",
    "        \n",
    "        '''\n",
    "        Code for SDD and PIVOT goes here\n",
    "        '''\n",
    "        if (track_update_num[u]>max(100, eps_param*track_update_benckmark[u])):\n",
    "            # tests\n",
    "            current_sparse_vertex_list, almost_cliques = sparse_dense_decop(current_graph)\n",
    "            # clear the number of updates\n",
    "            track_update_num[u] = 0\n",
    "            track_update_benckmark = current_graph[u].degree\n",
    "            print(current_sparse_vertex_list)\n",
    "            print('==========')\n",
    "            all_vertex_list = [v for v in current_graph]\n",
    "            print(np.setdiff1d(all_vertex_list,current_sparse_vertex_list))\n",
    "            break\n",
    "        \n",
    "    else:\n",
    "        # We have run out of edges to insert\n",
    "        edge_to_delete = np.random.choice(current_edge_list)\n",
    "        \n",
    "        u = edge_to_delete[0]\n",
    "        v = edge_to_delete[1]\n",
    "        current_graph[u].remove(v)\n",
    "        current_graph[v].remove(u)\n",
    "        \n",
    "        available_edge_list.extend(edge_to_delete)\n",
    "        current_edge_list.remove(edge_to_delete)\n",
    "    \n",
    "        \n",
    "    \n",
    "    \n",
    "#     if np.random.binomial(1,prob_del):\n",
    "#         # Deletion\n",
    "#         print(current_edge_list)\n",
    "#         edge_to_delete = np.random.choice(current_edge_list)\n",
    "        \n",
    "#         u = edge_to_delete[0]\n",
    "#         v = edge_to_delete[1]\n",
    "#         current_graph[u].remove(v)\n",
    "#         current_graph[v].remove(u)\n",
    "        \n",
    "#         available_edge_list.extend(edge_to_delete)\n",
    "#         current_edge_list.remove(edge_to_delete)\n",
    "        \n",
    "\n"
   ]
  },
  {
   "cell_type": "code",
   "execution_count": null,
   "id": "b93ddce2",
   "metadata": {},
   "outputs": [],
   "source": []
  }
 ],
 "metadata": {
  "kernelspec": {
   "display_name": "Python 3",
   "language": "python",
   "name": "python3"
  },
  "language_info": {
   "codemirror_mode": {
    "name": "ipython",
    "version": 3
   },
   "file_extension": ".py",
   "mimetype": "text/x-python",
   "name": "python",
   "nbconvert_exporter": "python",
   "pygments_lexer": "ipython3",
   "version": "3.7.4"
  }
 },
 "nbformat": 4,
 "nbformat_minor": 5
}
