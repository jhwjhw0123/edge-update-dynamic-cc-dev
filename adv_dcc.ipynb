{
 "cells": [
  {
   "cell_type": "code",
   "execution_count": 1,
   "id": "159e44ce",
   "metadata": {},
   "outputs": [],
   "source": [
    "import csv\n",
    "import random\n",
    "from utils import *\n",
    "from collections import defaultdict\n",
    "import time\n",
    "import matplotlib.pyplot as plt\n",
    "#import seaborn as sns\n",
    "import numpy as np"
   ]
  },
  {
   "cell_type": "code",
   "execution_count": 2,
   "id": "97b030cf",
   "metadata": {},
   "outputs": [],
   "source": [
    "adjacency_list, edge_list = create_graph_from_csv(\"email-Eu-core.csv\")"
   ]
  },
  {
   "cell_type": "code",
   "execution_count": null,
   "id": "2252f748",
   "metadata": {},
   "outputs": [],
   "source": [
    "'''\n",
    "TODO\n",
    "\n",
    "See if functions are doable\n",
    "\n",
    "'''"
   ]
  },
  {
   "cell_type": "code",
   "execution_count": null,
   "id": "18b1a0e8",
   "metadata": {},
   "outputs": [],
   "source": [
    "\n",
    "no_edges = len(edge_list)  #No. of edges\n",
    "\n",
    "prob_del = 0.2      #Probability to delete edge\n",
    "\n",
    "current_graph = {}\n",
    "current_edge_list = []\n",
    "\n",
    "available_edge_list = np.random.permutation(edge_list)\n",
    "\n",
    "stream_length = 2*no_edges\n",
    "\n",
    "for i in range(stream_length):\n",
    "    \n",
    "    #Insertion\n",
    "    if available_edge_list: #\n",
    "        current_edge_list.append(available_edge_list[i])\n",
    "        u = available_edge_list[i][0]\n",
    "        v = available_edge_list[i][1]\n",
    "        if u not in current_graph.keys():\n",
    "            current_graph[u] = OptList()\n",
    "        current_graph[u].insert(v)\n",
    "        if v not in current_graph.keys():\n",
    "            current_graph[v] = OptList()\n",
    "        current_graph[v].insert(u)\n",
    "        available_edge_list.pop(0)\n",
    "        \n",
    "        '''\n",
    "        Code for SDD and PIVOT goes here\n",
    "        '''\n",
    "        \n",
    "    else:\n",
    "        #We have run out of edges to insert\n",
    "        edge_to_delete = np.random.choice(current_edge_list)\n",
    "        \n",
    "        u = edge_to_delete[0]\n",
    "        v = edge_to_delete[1]\n",
    "        current_graph[u].remove(v)\n",
    "        current_graph[v].remove(u)\n",
    "        \n",
    "        available_edge_list.extend(edge_to_delete)\n",
    "        current_edge_list.remove(edge_to_delete)\n",
    "    \n",
    "        \n",
    "    \n",
    "    \n",
    "    if np.random.binomial(1,prob_del):\n",
    "        #Deletion\n",
    "        edge_to_delete = np.random.choice(current_edge_list)\n",
    "        \n",
    "        u = edge_to_delete[0]\n",
    "        v = edge_to_delete[1]\n",
    "        current_graph[u].remove(v)\n",
    "        current_graph[v].remove(u)\n",
    "        \n",
    "        available_edge_list.extend(edge_to_delete)\n",
    "        current_edge_list.remove(edge_to_delete)\n",
    "        \n",
    "\n",
    "\n",
    "\n"
   ]
  },
  {
   "cell_type": "code",
   "execution_count": null,
   "id": "b93ddce2",
   "metadata": {},
   "outputs": [],
   "source": []
  }
 ],
 "metadata": {
  "kernelspec": {
   "display_name": "Python 3 (ipykernel)",
   "language": "python",
   "name": "python3"
  },
  "language_info": {
   "codemirror_mode": {
    "name": "ipython",
    "version": 3
   },
   "file_extension": ".py",
   "mimetype": "text/x-python",
   "name": "python",
   "nbconvert_exporter": "python",
   "pygments_lexer": "ipython3",
   "version": "3.10.4"
  }
 },
 "nbformat": 4,
 "nbformat_minor": 5
}
