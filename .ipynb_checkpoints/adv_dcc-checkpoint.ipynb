{
 "cells": [
  {
   "cell_type": "code",
   "execution_count": 1,
   "id": "159e44ce",
   "metadata": {},
   "outputs": [],
   "source": [
    "import csv\n",
    "import random\n",
    "from utils import *\n",
    "from collections import defaultdict\n",
    "import time\n",
    "import matplotlib.pyplot as plt\n",
    "#import seaborn as sns\n",
    "import numpy as np"
   ]
  },
  {
   "cell_type": "markdown",
   "id": "remarkable-banks",
   "metadata": {},
   "source": [
    "## The functions that implements our algorithm"
   ]
  },
  {
   "cell_type": "code",
   "execution_count": 48,
   "id": "identical-nickel",
   "metadata": {},
   "outputs": [],
   "source": [
    "def test_sparse_vertex(current_graph, eps=0.2):\n",
    "    # sample log n neighbors for each vertex\n",
    "    current_num_vertex = len(current_graph)\n",
    "    num_sample = max((int)(5*np.log(current_num_vertex)), 20)\n",
    "    sample_dict = {}\n",
    "    for this_vertex in current_graph:\n",
    "        sample_vertex_set = current_graph[this_vertex].getRandom(i=num_sample)\n",
    "        sample_dict[this_vertex] = sample_vertex_set\n",
    "    sparse_vertex_list = []\n",
    "    # test sparsity for each vertex\n",
    "    for this_vertex in current_graph:\n",
    "        num_neighbor_diff = 0\n",
    "        neighbors_this = sample_dict[this_vertex]\n",
    "        for comp_vertex in sample_dict[this_vertex]:\n",
    "            neighbors_comp = sample_dict[comp_vertex]\n",
    "            dif1 = np.setdiff1d(neighbors_this, neighbors_comp)\n",
    "            dif2 = np.setdiff1d(neighbors_comp, neighbors_this)\n",
    "            total_diff = len(np.concatenate((dif1, dif2)))\n",
    "            max_degree_between_two = max(current_graph[this_vertex].degree, \n",
    "                                         current_graph[comp_vertex].degree)\n",
    "            if (total_diff>=eps*max_degree_between_two):\n",
    "                num_neighbor_diff = num_neighbor_diff + 1\n",
    "        if num_neighbor_diff >=eps*len(neighbors_this):\n",
    "#             print('A new sparse vertex!')\n",
    "#             print(this_vertex)\n",
    "#             print('===================')\n",
    "#             print(neighbors_this)\n",
    "#             print('--------------')\n",
    "#             print(neighbors_comp)\n",
    "#             print('sparse vertex degree is', current_graph[this_vertex].degree)\n",
    "#             print('last comparison degree is', current_graph[comp_vertex].degree)\n",
    "#             print('number of sparse neighbors is', num_neighbor_diff)\n",
    "            sparse_vertex_list.append(this_vertex)\n",
    "    \n",
    "    # return the list of sparse vertices\n",
    "    return sparse_vertex_list"
   ]
  },
  {
   "cell_type": "markdown",
   "id": "clinical-palace",
   "metadata": {},
   "source": [
    "## Read the edges and maintain clustering"
   ]
  },
  {
   "cell_type": "code",
   "execution_count": 49,
   "id": "97b030cf",
   "metadata": {
    "scrolled": false
   },
   "outputs": [],
   "source": [
    "adjacency_list, edge_list = create_graph_from_csv(\"../data/email-Eu-core.csv\")"
   ]
  },
  {
   "cell_type": "code",
   "execution_count": 50,
   "id": "2252f748",
   "metadata": {},
   "outputs": [
    {
     "data": {
      "text/plain": [
       "'\\nTODO\\n\\nSee if functions are doable\\n\\n'"
      ]
     },
     "execution_count": 50,
     "metadata": {},
     "output_type": "execute_result"
    }
   ],
   "source": [
    "'''\n",
    "TODO\n",
    "\n",
    "See if functions are doable\n",
    "\n",
    "'''"
   ]
  },
  {
   "cell_type": "code",
   "execution_count": 51,
   "id": "18b1a0e8",
   "metadata": {},
   "outputs": [
    {
     "name": "stdout",
     "output_type": "stream",
     "text": [
      "[887, 414, 449]\n",
      "==========\n",
      "[]\n"
     ]
    }
   ],
   "source": [
    "no_edges = len(edge_list)  # No. of edges\n",
    "\n",
    "prob_del = 0.2      # Probability to delete edge\n",
    "eps_param = 0.1\n",
    "\n",
    "current_graph = {}\n",
    "current_edge_list = []\n",
    "\n",
    "available_edge_list = np.random.permutation(edge_list).tolist()\n",
    "\n",
    "stream_length = 2*no_edges\n",
    "\n",
    "track_update_num = {}\n",
    "track_update_benckmark = {}\n",
    "\n",
    "for i in range(stream_length):\n",
    "    # Insertion\n",
    "    if available_edge_list: #\n",
    "        current_edge_list.append(available_edge_list[i])\n",
    "        u = available_edge_list[i][0]\n",
    "        v = available_edge_list[i][1]\n",
    "        if u not in current_graph.keys():\n",
    "            current_graph[u] = OptList()\n",
    "        current_graph[u].insert(v)\n",
    "        if v not in current_graph.keys():\n",
    "            current_graph[v] = OptList()\n",
    "        current_graph[v].insert(u)\n",
    "        available_edge_list.pop(0)\n",
    "        \n",
    "        # keep track of the benchmark for the updates\n",
    "        if u not in track_update_benckmark:\n",
    "            track_update_benckmark[u] = current_graph[u].degree\n",
    "        if v not in track_update_benckmark:\n",
    "            track_update_benckmark[v] = current_graph[v].degree\n",
    "        # update the tracking of the updates on u and v\n",
    "        if u not in track_update_num:\n",
    "            track_update_num[u] = 1\n",
    "        else:\n",
    "            track_update_num[u] = track_update_num[u] + 1\n",
    "            \n",
    "        if v not in track_update_num:\n",
    "            track_update_num[v] = 1\n",
    "        else:\n",
    "            track_update_num[v] = track_update_num[v] + 1\n",
    "        \n",
    "        \n",
    "        '''\n",
    "        Code for SDD and PIVOT goes here\n",
    "        '''\n",
    "        if (track_update_num[u]>max(100, eps_param*track_update_benckmark[u])):\n",
    "            # tests\n",
    "            current_sparse_vertex_list = test_sparse_vertex(current_graph)\n",
    "            # clear the number of updates\n",
    "            track_update_num[u] = 0\n",
    "            track_update_benckmark = current_graph[u].degree\n",
    "            print(current_sparse_vertex_list)\n",
    "            print('==========')\n",
    "            all_vertex_list = [v for v in current_graph]\n",
    "            print(np.setdiff1d(all_vertex_list,current_sparse_vertex_list))\n",
    "            break\n",
    "        \n",
    "    else:\n",
    "        # We have run out of edges to insert\n",
    "        edge_to_delete = np.random.choice(current_edge_list)\n",
    "        \n",
    "        u = edge_to_delete[0]\n",
    "        v = edge_to_delete[1]\n",
    "        current_graph[u].remove(v)\n",
    "        current_graph[v].remove(u)\n",
    "        \n",
    "        available_edge_list.extend(edge_to_delete)\n",
    "        current_edge_list.remove(edge_to_delete)\n",
    "    \n",
    "        \n",
    "    \n",
    "    \n",
    "#     if np.random.binomial(1,prob_del):\n",
    "#         # Deletion\n",
    "#         print(current_edge_list)\n",
    "#         edge_to_delete = np.random.choice(current_edge_list)\n",
    "        \n",
    "#         u = edge_to_delete[0]\n",
    "#         v = edge_to_delete[1]\n",
    "#         current_graph[u].remove(v)\n",
    "#         current_graph[v].remove(u)\n",
    "        \n",
    "#         available_edge_list.extend(edge_to_delete)\n",
    "#         current_edge_list.remove(edge_to_delete)\n",
    "        \n",
    "\n"
   ]
  },
  {
   "cell_type": "code",
   "execution_count": null,
   "id": "b93ddce2",
   "metadata": {},
   "outputs": [],
   "source": []
  }
 ],
 "metadata": {
  "kernelspec": {
   "display_name": "Python 3",
   "language": "python",
   "name": "python3"
  },
  "language_info": {
   "codemirror_mode": {
    "name": "ipython",
    "version": 3
   },
   "file_extension": ".py",
   "mimetype": "text/x-python",
   "name": "python",
   "nbconvert_exporter": "python",
   "pygments_lexer": "ipython3",
   "version": "3.7.4"
  }
 },
 "nbformat": 4,
 "nbformat_minor": 5
}
